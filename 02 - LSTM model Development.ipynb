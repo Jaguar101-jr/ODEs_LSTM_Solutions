{
 "cells": [
  {
   "cell_type": "code",
   "execution_count": 1,
   "metadata": {},
   "outputs": [],
   "source": [
    "from ctrl import *"
   ]
  },
  {
   "cell_type": "code",
   "execution_count": 2,
   "metadata": {},
   "outputs": [
    {
     "name": "stderr",
     "output_type": "stream",
     "text": [
      "100%|██████████| 10/10 [00:00<00:00, 77.09it/s]\n"
     ]
    },
    {
     "data": {
      "text/plain": [
       "(10, 1000, 12)"
      ]
     },
     "execution_count": 2,
     "metadata": {},
     "output_type": "execute_result"
    }
   ],
   "source": [
    "# To get the high accuracy required in the paper you must do the following\n",
    "## set: n_observations = 40,000\n",
    "## run the whole file from begging to end\n",
    "n_observations = 10\n",
    "n_steps = 1000\n",
    "data_prepared = create_observations(n_observations)\n",
    "data_prepared.shape"
   ]
  },
  {
   "cell_type": "code",
   "execution_count": 3,
   "metadata": {},
   "outputs": [],
   "source": [
    "# save dataset in 3D format\n",
    "np.save('data/data_prepared_3D.npy', data_prepared)"
   ]
  },
  {
   "cell_type": "code",
   "execution_count": 4,
   "metadata": {},
   "outputs": [],
   "source": [
    "data_prepared = np.load('data/data_prepared_3D.npy')"
   ]
  },
  {
   "cell_type": "markdown",
   "metadata": {},
   "source": [
    "# Modelling"
   ]
  },
  {
   "cell_type": "code",
   "execution_count": 5,
   "metadata": {},
   "outputs": [],
   "source": [
    "import tensorflow as tf\n",
    "from tensorflow.keras import layers, models\n",
    "from tensorflow.keras.layers import Bidirectional, GRU, LSTM, Dense\n",
    "from tensorflow.keras.models import Sequential"
   ]
  },
  {
   "cell_type": "code",
   "execution_count": 6,
   "metadata": {},
   "outputs": [],
   "source": [
    "X_data = data_prepared[:, :,0:-3]\n",
    "y_data = data_prepared[:, :,-3:]"
   ]
  },
  {
   "cell_type": "code",
   "execution_count": 7,
   "metadata": {},
   "outputs": [],
   "source": [
    "model = Sequential()\n",
    "model.add(LSTM(units=50, return_sequences=True, input_shape=(n_steps, 9)))\n",
    "model.add(Dense(units=3, activation='selu'))\n",
    "\n",
    "model.compile(optimizer='adam',\n",
    "              loss=tf.keras.losses.MeanSquaredError(),\n",
    "              metrics=['accuracy'])"
   ]
  },
  {
   "cell_type": "code",
   "execution_count": 8,
   "metadata": {},
   "outputs": [
    {
     "name": "stdout",
     "output_type": "stream",
     "text": [
      "Epoch 1/5\n",
      "1563/1563 [==============================] - 56s 33ms/step - loss: 0.0100 - accuracy: 0.9836\n",
      "Epoch 2/5\n",
      "1563/1563 [==============================] - 52s 33ms/step - loss: 1.4633e-04 - accuracy: 0.9961\n",
      "Epoch 3/5\n",
      "1563/1563 [==============================] - 52s 33ms/step - loss: 1.0173e-04 - accuracy: 0.9966\n",
      "Epoch 4/5\n",
      "1563/1563 [==============================] - 52s 33ms/step - loss: 6.0237e-05 - accuracy: 0.9975\n",
      "Epoch 5/5\n",
      "1563/1563 [==============================] - 52s 33ms/step - loss: 5.2149e-05 - accuracy: 0.9977\n"
     ]
    }
   ],
   "source": [
    "history = model.fit(X_data, y_data, epochs=5)"
   ]
  },
  {
   "cell_type": "code",
   "execution_count": 9,
   "metadata": {},
   "outputs": [],
   "source": [
    "sample = data_prepared[1500]\n",
    "x_sample = sample[:,0:-3].reshape(1, sample.shape[0], 9)\n",
    "y_sample = sample[:,-3:].reshape(1, sample.shape[0], 3)\n",
    "\n",
    "predictions = model.predict(x_sample).reshape(1, sample.shape[0], 3)"
   ]
  },
  {
   "cell_type": "code",
   "execution_count": 10,
   "metadata": {},
   "outputs": [],
   "source": [
    "s_true = y_sample[:,:,0].flatten()\n",
    "v_true = y_sample[:,:,1].flatten()\n",
    "i_true = y_sample[:,:,2].flatten()\n",
    "\n",
    "s_pred = predictions[:,:,0].flatten()\n",
    "v_pred = predictions[:,:,1].flatten()\n",
    "i_pred = predictions[:,:,2].flatten()"
   ]
  },
  {
   "cell_type": "code",
   "execution_count": 13,
   "metadata": {},
   "outputs": [
    {
     "data": {
      "image/png": "[encoded data removed]",
      "text/plain": [
       "<Figure size 432x288 with 1 Axes>"
      ]
     },
     "metadata": {
      "needs_background": "light"
     },
     "output_type": "display_data"
    }
   ],
   "source": [
    "import matplotlib.pyplot as plt\n",
    "t = np.arange(1, s_true.shape[0]+1)\n",
    "# plot lines\n",
    "plt.plot(t, s_true, label = \"S_true\")\n",
    "plt.plot(t, v_true, label = \"v_true\")\n",
    "plt.plot(t, i_true, label = \"i_true\")\n",
    "plt.plot(t, s_pred, label = \"s_pred\")\n",
    "plt.plot(t, v_pred, label = \"v_pred\")\n",
    "plt.plot(t, i_pred, label = \"i_pred\")\n",
    "plt.legend()\n",
    "plt.show()"
   ]
  },
  {
   "cell_type": "code",
   "execution_count": 14,
   "metadata": {},
   "outputs": [
    {
     "name": "stderr",
     "output_type": "stream",
     "text": [
      "WARNING:absl:Found untraced functions such as lstm_cell_layer_call_fn, lstm_cell_layer_call_and_return_conditional_losses, lstm_cell_layer_call_fn, lstm_cell_layer_call_and_return_conditional_losses, lstm_cell_layer_call_and_return_conditional_losses while saving (showing 5 of 5). These functions will not be directly callable after loading.\n"
     ]
    },
    {
     "name": "stdout",
     "output_type": "stream",
     "text": [
      "INFO:tensorflow:Assets written to: lstm_model\\assets\n"
     ]
    },
    {
     "name": "stderr",
     "output_type": "stream",
     "text": [
      "INFO:tensorflow:Assets written to: lstm_model\\assets\n",
      "WARNING:absl:<keras.layers.recurrent.LSTMCell object at 0x0000025A41E51B20> has the same name 'LSTMCell' as a built-in Keras object. Consider renaming <class 'keras.layers.recurrent.LSTMCell'> to avoid naming conflicts when loading with `tf.keras.models.load_model`. If renaming is not possible, pass the object in the `custom_objects` parameter of the load function.\n"
     ]
    }
   ],
   "source": [
    "model.save('lstm_model')"
   ]
  },
  {
   "cell_type": "code",
   "execution_count": null,
   "metadata": {},
   "outputs": [],
   "source": []
  }
 ],
 "metadata": {
  "kernelspec": {
   "display_name": "Python 3",
   "language": "python",
   "name": "python3"
  },
  "language_info": {
   "codemirror_mode": {
    "name": "ipython",
    "version": 3
   },
   "file_extension": ".py",
   "mimetype": "text/x-python",
   "name": "python",
   "nbconvert_exporter": "python",
   "pygments_lexer": "ipython3",
   "version": "3.8.5"
  }
 },
 "nbformat": 4,
 "nbformat_minor": 4
}
